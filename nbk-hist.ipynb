{
 "cells": [
  {
   "cell_type": "markdown",
   "metadata": {},
   "source": [
    "# Dissimilarity based on histogram analysis\n",
    "Each voxet produces an histogram of values. The distance between two histograms is computed as the [Jensen-Shanon divergence](https://en.wikipedia.org/wiki/Jensen%E2%80%93Shannon_divergence), a symmetrized and smooth version of the [Kullback-Leibler divergence](https://en.wikipedia.org/wiki/Kullback%E2%80%93Leibler_divergence).\n",
    "\n",
    "Given two random variables $P$ and $Q$, the Jenson-Shanon divergence is conmputed as <br>\n",
    "JSD$(P||Q)= {{1} \\over {2}} $KLD$(P||M) + {{1} \\over {2}} $KLD$(Q||M)$, where $M = {{P+Q} \\over {2}} $ and KLD is the Kullback-Leibler divergence.\n",
    "\n",
    "It requires $P$ and $Q$ to share the same support $\\mathcal{X}$ can be computed for continuous or discrete variables. Here, we assume that the support of our random variables is discrete and of size $n$ (possibly $n$ bins for discretized continuous variables).\n",
    "\n",
    "Denoting the support of $P$ and $Q$ by $(x_i)_{i=1 \\dots n}$, $p_i=\\text{Prob}(P=x_i)$, $q_i=\\text{Prob}(Q=x_i)$ and $m_i = {{p_i+q_i} \\over {2}}$, the Jenson-Shanon divergence is computed as:\n",
    "\n",
    "JSD$(P||Q) = {{1} \\over {2}} \\sum \\limits _{i=1}^{n} p_i ln \\left({{p_i}\\over{m_i}} \\right) + {{1} \\over {2}} \\sum \\limits _{i=1}^{n} q_i ln \\left({{q_i}\\over{m_i}} \\right)$"
   ]
  },
  {
   "cell_type": "code",
   "execution_count": 1,
   "metadata": {},
   "outputs": [],
   "source": [
    "# import modules\n",
    "from matplotlib import pyplot as plt\n",
    "import numpy as np\n",
    "import pandas as pd\n",
    "import seaborn as sns\n",
    "from datetime import datetime\n",
    "from sklearn import manifold\n",
    "import pickle\n",
    "from uncertaintyIndicators import jsdist_hist\n",
    "\n",
    "picklefilenamehisto = \"./pickledata/testing-model-subset-histogram.pickle\"\n",
    "picklefilenamedata = \"./pickledata/testing-model-subset.pickle\"\n",
    "sample_num1 = 9\n",
    "sample_num2 = 2\n",
    "myseed = 65432\n",
    "nbins = 20\n",
    "\n",
    "# import data\n",
    "with open(picklefilenamedata, 'rb') as f:\n",
    "    [grv_all,mag_all,mod_all,rho_all,sus_all,cmap,samples_ix] = pickle.load(f)\n",
    "\n",
    "nsamples = len(samples_ix)\n",
    "\n",
    "base = np.e"
   ]
  },
  {
   "cell_type": "markdown",
   "metadata": {},
   "source": [
    "## Histogram based distance illustration"
   ]
  },
  {
   "cell_type": "code",
   "execution_count": 2,
   "metadata": {},
   "outputs": [
    {
     "name": "stdout",
     "output_type": "stream",
     "text": [
      "03-Jun-2021 (23:52:19) - COMPUTING HISTOGRAM BASED DENSITY START\n"
     ]
    },
    {
     "data": {
      "image/png": "[encoded data removed]",
      "text/plain": [
       "<Figure size 432x288 with 1 Axes>"
      ]
     },
     "metadata": {
      "needs_background": "light"
     },
     "output_type": "display_data"
    },
    {
     "name": "stdout",
     "output_type": "stream",
     "text": [
      "03-Jun-2021 (23:52:20) - COMPUTING HISTOGRAM BASED DENSITY END\n"
     ]
    }
   ],
   "source": [
    "print((datetime.now()).strftime('%d-%b-%Y (%H:%M:%S)')+\" - \"+\"COMPUTING HISTOGRAM BASED DENSITY START\")\n",
    "tmp1 = rho_all[:,:,:,sample_num1] # for illustration, we consider the density field of random sample #9\n",
    "tmp2 = rho_all[:,:,:,sample_num2] # for illustration, we consider the density field of random sample #2\n",
    "dist_hist_rho = jsdist_hist(tmp1,tmp2,nbins,base,plot=True)\n",
    "print((datetime.now()).strftime('%d-%b-%Y (%H:%M:%S)')+\" - \"+\"COMPUTING HISTOGRAM BASED DENSITY END\")"
   ]
  },
  {
   "cell_type": "markdown",
   "metadata": {},
   "source": [
    "## Compute for all pairs of voxets"
   ]
  },
  {
   "cell_type": "code",
   "execution_count": null,
   "metadata": {},
   "outputs": [],
   "source": [
    "print((datetime.now()).strftime('%d-%b-%Y (%H:%M:%S)')+\" - \"+\"COMPUTING HISTOGRAM BASED DIST ALL START\")\n",
    "\n",
    "dist_hist_mag = np.zeros((nsamples,nsamples))\n",
    "dist_hist_grv = np.zeros((nsamples,nsamples))\n",
    "dist_hist_mod = np.zeros((nsamples,nsamples))\n",
    "dist_hist_rho = np.zeros((nsamples,nsamples))\n",
    "dist_hist_sus = np.zeros((nsamples,nsamples))\n",
    "\n",
    "k=0\n",
    "for i in range(nsamples):\n",
    "    for j in range(i):\n",
    "        k+=1\n",
    "        print((datetime.now()).strftime('%d-%b-%Y (%H:%M:%S)')+\" - \"+'k = '+str(k)+' - i = '+str(i)+' j = ',str(j))\n",
    "        dist_hist_mag[i,j] = jsdist_hist(mag_all[:,:,i],mag_all[:,:,j],nbins,base)\n",
    "        dist_hist_grv[i,j] = jsdist_hist(grv_all[:,:,i],grv_all[:,:,j],nbins,base)\n",
    "        dist_hist_mod[i,j] = jsdist_hist(mod_all[:,:,:,i],mod_all[:,:,:,j],nbins,base)\n",
    "        dist_hist_rho[i,j] = jsdist_hist(rho_all[:,:,:,i],rho_all[:,:,:,j],nbins,base)\n",
    "        dist_hist_sus[i,j] = jsdist_hist(sus_all[:,:,:,i],sus_all[:,:,:,j],nbins,base)\n",
    "        dist_hist_mag[j,i] = dist_hist_mag[i,j]\n",
    "        dist_hist_grv[j,i] = dist_hist_grv[i,j]\n",
    "        dist_hist_mod[j,i] = dist_hist_mod[i,j]\n",
    "        dist_hist_rho[j,i] = dist_hist_rho[i,j]\n",
    "        dist_hist_sus[j,i] = dist_hist_sus[i,j]\n",
    "\n",
    "print((datetime.now()).strftime('%d-%b-%Y (%H:%M:%S)')+\" - \"+\"COMPUTING HISTOGRAM BASED DIST ALL END\")"
   ]
  },
  {
   "cell_type": "markdown",
   "metadata": {},
   "source": [
    "## Multi-Dimensional Scaling representation"
   ]
  },
  {
   "cell_type": "code",
   "execution_count": null,
   "metadata": {},
   "outputs": [],
   "source": [
    "print((datetime.now()).strftime('%d-%b-%Y (%H:%M:%S)')+\" - \"+\"COMPUTING 2D MDS REPRESENTATION START\")\n",
    "\n",
    "mds = manifold.MDS(n_components=2, max_iter=3000, eps=1e-9, random_state=myseed,\n",
    "                   dissimilarity=\"precomputed\", n_jobs=1)\n",
    "\n",
    "mdspos_mag = mds.fit(dist_hist_mag).embedding_\n",
    "mdspos_grv = mds.fit(dist_hist_grv).embedding_\n",
    "mdspos_mod = mds.fit(dist_hist_mod).embedding_\n",
    "mdspos_rho = mds.fit(dist_hist_rho).embedding_\n",
    "mdspos_sus = mds.fit(dist_hist_sus).embedding_\n",
    "\n",
    "fig = plt.figure(1)\n",
    "ax = plt.axes([0., 0., 1., 1.])\n",
    "s = 100\n",
    "plt.scatter(mdspos_mag[:, 0], mdspos_mag[:, 1], c=np.arange(nsamples),cmap='tab10', s=s, lw=0, label='mag', marker='o')\n",
    "plt.scatter(mdspos_grv[:, 0], mdspos_grv[:, 1], c=np.arange(nsamples),cmap='tab10', s=s, lw=0, label='grv', marker='^')\n",
    "plt.scatter(mdspos_mod[:, 0], mdspos_mod[:, 1], c=np.arange(nsamples),cmap='tab10', s=s, lw=0, label='litho', marker='v')\n",
    "plt.scatter(mdspos_rho[:, 0], mdspos_rho[:, 1], c=np.arange(nsamples),cmap='tab10', s=s, lw=0, label='rho', marker='<')\n",
    "plt.scatter(mdspos_sus[:, 0], mdspos_sus[:, 1], c=np.arange(nsamples),cmap='tab10', s=s, lw=0, label='sus. mag.', marker='>')\n",
    "plt.legend(scatterpoints=1, loc='best', shadow=False)\n",
    "ax.set_title('2D Multi-Dimensional Scaling Representation of (dis-)similarities')\n",
    "plt.show()\n",
    "\n",
    "ix=np.tril_indices(nsamples,k=-1)\n",
    "df= pd.DataFrame({'mag':dist_hist_mag[ix], 'grv':dist_hist_grv[ix], 'litho':dist_hist_mod[ix], 'rho':dist_hist_rho[ix], 'sus':dist_hist_sus[ix]})\n",
    "g = sns.PairGrid(df)\n",
    "g.map_upper(sns.scatterplot)\n",
    "g.map_lower(sns.kdeplot)\n",
    "g.map_diag(sns.kdeplot, lw=3, legend=False)\n",
    "print((datetime.now()).strftime('%d-%b-%Y (%H:%M:%S)')+\" - \"+\"COMPUTING 2D MDS REPRESENTATION END\")\n"
   ]
  },
  {
   "cell_type": "markdown",
   "metadata": {},
   "source": [
    "## Save indicators"
   ]
  },
  {
   "cell_type": "code",
   "execution_count": null,
   "metadata": {},
   "outputs": [],
   "source": [
    "with open(picklefilenamehisto, 'wb') as f:\n",
    "    pickle.dump([dist_hist_mag,dist_hist_grv,dist_hist_mod,dist_hist_rho,dist_hist_sus,\n",
    "                 mdspos_mag,mdspos_grv,mdspos_mod,mdspos_rho,mdspos_sus], f)"
   ]
  }
 ],
 "metadata": {
  "kernelspec": {
   "display_name": "Python 3",
   "language": "python",
   "name": "python3"
  },
  "language_info": {
   "codemirror_mode": {
    "name": "ipython",
    "version": 3
   },
   "file_extension": ".py",
   "mimetype": "text/x-python",
   "name": "python",
   "nbconvert_exporter": "python",
   "pygments_lexer": "ipython3",
   "version": "3.7.6"
  },
  "latex_envs": {
   "LaTeX_envs_menu_present": true,
   "autoclose": false,
   "autocomplete": true,
   "bibliofile": "biblio.bib",
   "cite_by": "apalike",
   "current_citInitial": 1,
   "eqLabelWithNumbers": true,
   "eqNumInitial": 1,
   "hotkeys": {
    "equation": "Ctrl-E",
    "itemize": "Ctrl-I"
   },
   "labels_anchors": false,
   "latex_user_defs": false,
   "report_style_numbering": false,
   "user_envs_cfg": false
  }
 },
 "nbformat": 4,
 "nbformat_minor": 4
}
