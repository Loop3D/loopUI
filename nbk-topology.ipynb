{
 "cells": [
  {
   "cell_type": "markdown",
   "metadata": {},
   "source": [
    "# Dissimilarity based on topological analysis\n",
    "Thiele et al. [2016] give an overview of possible representations of the topology in the context of 3D geological modelling. Different levels of complexity (e.g. 1st or 2nd orders ...) can be used. Nonetheless, any topological indicator is a graph, that can take the form of an adjacency matrix. Thus to compute a topological distance between two 3D geological models, it seems natural to look at distances defined between graphs. Donnat & Holmes [2018] provide a comprehensive review of graph distances, used in the study of graph dynamics or temporal evolution. Though, here, in a geological context, we aim at comparing the topological diversity of an ensemble of geological models, we can use similar distances. Donnat & Holmes [2018] classify graph disatnces into three main categories:\n",
    "\n",
    "### 1. Low-scale distances\n",
    "On one hand, these distances capture local changes in the graph structure.\n",
    " - Hamming distance: sum of absolute value of differences bewteen two adjacency matrices, works for the same number of vertices (nodes)\n",
    " - Jaccard distance: difference between the union and intersection of two graphs\n",
    " - Graph edit distance: NP-complete class of problems, not computed here. More info available at https://en.wikipedia.org/wiki/Graph_edit_distance, or in Part IV Chapter 15 of the Encyplopediae of Distances [Deza & Deza 2016] p. 301. Some packages and inmplementations exist but have not been tested here:\n",
    "     - [GMatch4py](https://github.com/Jacobe2169/GMatch4py)\n",
    "     - [graphkit-learn](https://pypi.org/project/graphkit-learn/) \n",
    "     - other heuristic https://hal.archives-ouvertes.fr/hal-01717709/document\n",
    "\n",
    "### 2. High level / spectral distances\n",
    "Spectral distances on the other hand are global measures and reflect the smoothness of the overall graph structure changes by measuring dissimilarities in the eigenvalues of the graph Laplacian or its adjacency matrix. Some examples:\n",
    " - IM distance [Ipsen and Mikhailov,2002]\n",
    " - $l_p$ distances on eigenvalues\n",
    " - Kruglov distance ($l_1$?) on eigenvector coordinates [Shimada et al., 2016]\n",
    "\n",
    "### 3. Meso-scale distances\n",
    "They are a compromise or combination of low-scale and spectral distances.\n",
    " - HIM: Hamming-IM combination\n",
    " - Heat-Wave distance\n",
    " - polynomial distance\n",
    " - neighborhood level distances\n",
    " - connectivity-based distances\n",
    "\n",
    "## What is provided in this notebook\n",
    "Here, we propose to build first order adjacency matrices from 2D or 3D voxet models. For continuous property fields, the voxet is discretize in $N=10$ classes of values defined by $N$ equi-percentile thresholds over the distribution of the combined voxets. \n",
    "\n",
    "We compute two topological distances:\n",
    " - structural Hamming distance\n",
    " - Laplacian spectral distance [Shimada et al., 2016]\n",
    "\n",
    "Note that graphs characterizing geological model topology could contain more information (edges properties such as age constraint, type of contact; vertices properties such as formation type, geophysical properties). Thus more specific measures could be developed to take into account such characteristics. However, it would rely on the ability of geomodelling engines to provide these topology graphs with each model, and there is no guarantee that it would be useful for the inference of geochronology from geophysical or other observations. \n",
    "\n",
    "#### References\n",
    "Deza, M. M., & Deza, E. (2009). Encyclopedia of distances. In Encyclopedia of distances (pp. 1-583). Springer, Berlin, Heidelberg. https://link.springer.com/content/pdf/10.1007/978-3-642-00234-2_1.pdf\n",
    "\n",
    "Donnat, C., & Holmes, S. (2018). Tracking network dynamics: A survey using graph distances. The Annals of Applied Statistics, 12(2), 971-1012. https://doi.org/10.1214/18-AOAS1176\n",
    "\n",
    "Ipsen, M., & Mikhailov, A. S. (2003). Erratum: Evolutionary reconstruction of networks [Phys. Rev. E 66, 046109 (2002)]. Physical Review E, 67(3), 039901. https://doi.org/10.1103/PhysRevE.67.039901\n",
    "\n",
    "Shimada, Y., Hirata, Y., Ikeguchi, T., & Aihara, K. (2016). Graph distance for complex networks. Scientific reports, 6(1), 1-6. https://doi.org/10.1038/srep34944\n",
    "\n",
    "Thiele, S. T., Jessell, M. W., Lindsay, M., Ogarko, V., Wellmann, J. F., & Pakyuz-Charrier, E. (2016). The topology of geology 1: Topological analysis. Journal of Structural Geology, 91, 27-38. https://doi.org/10.1016/j.jsg.2016.08.009"
   ]
  },
  {
   "cell_type": "code",
   "execution_count": 1,
   "metadata": {},
   "outputs": [],
   "source": [
    "import numpy as np\n",
    "from datetime import datetime\n",
    "import pickle\n",
    "from uncertaintyIndicators import topo_dist\n",
    "\n",
    "picklefilenametopology = \"./pickledata/testing-model-subset-topology.pickle\"\n",
    "picklefilenamedata = \"./pickledata/testing-model-subset.pickle\"\n",
    "sample_num1 = 9\n",
    "sample_num2 = 2\n",
    "\n",
    "# import data\n",
    "with open(picklefilenamedata, 'rb') as f:\n",
    "    [grv_all,mag_all,mod_all,rho_all,sus_all,cmap,samples_ix] = pickle.load(f)\n",
    "\n",
    "# get dimensions\n",
    "[nz,ny,nx,nbsamples]=mod_all.shape\n",
    "nsamples = len(samples_ix) #!nbsamples=nb sub-samples while nsamples=nb noddy models!\n",
    "\n",
    "# number of classes for discretization of continuous fields\n",
    "npctiles = 10"
   ]
  },
  {
   "cell_type": "markdown",
   "metadata": {},
   "source": [
    "## Illustrations\n",
    "   \n",
    "### 2D CATEGORICAL VARIABLE"
   ]
  },
  {
   "cell_type": "code",
   "execution_count": 2,
   "metadata": {},
   "outputs": [
    {
     "name": "stdout",
     "output_type": "stream",
     "text": [
      "08-Jul-2021 (12:35:52) - COMPUTING 2D 1st order TOPOLOGY IND. LITHOCODE START\n",
      "unique values in boundaries: [1 4 6]\n",
      "adjacency matrix: \n",
      "[[0. 0. 0. 1. 0. 0.]\n",
      " [0. 0. 0. 0. 0. 0.]\n",
      " [0. 0. 0. 0. 0. 0.]\n",
      " [1. 0. 0. 0. 0. 1.]\n",
      " [0. 0. 0. 0. 0. 0.]\n",
      " [0. 0. 0. 1. 0. 0.]]\n",
      "unique values in boundaries: [1 2 3 4 5 6]\n",
      "adjacency matrix: \n",
      "[[0. 1. 0. 0. 0. 1.]\n",
      " [1. 0. 1. 0. 0. 1.]\n",
      " [0. 1. 0. 1. 0. 1.]\n",
      " [0. 0. 1. 0. 1. 1.]\n",
      " [0. 0. 0. 1. 0. 1.]\n",
      " [1. 1. 1. 1. 1. 0.]]\n",
      "litho structural Hamming distance: 0.6\n",
      "litho Laplacian spectral graph distance: 0.3348755732238678\n"
     ]
    },
    {
     "data": {
      "image/png": "[encoded data removed]",
      "text/plain": [
       "<Figure size 432x288 with 8 Axes>"
      ]
     },
     "metadata": {
      "needs_background": "light"
     },
     "output_type": "display_data"
    },
    {
     "name": "stdout",
     "output_type": "stream",
     "text": [
      "08-Jul-2021 (12:35:52) - COMPUTING 2D 1st order TOPOLOGY IND. LITHOCODE END\n"
     ]
    }
   ],
   "source": [
    "#%% 2D CATEGORICAL VARIABLE \n",
    "print((datetime.now()).strftime('%d-%b-%Y (%H:%M:%S)')+\" - \"+\"COMPUTING 2D 1st order TOPOLOGY IND. LITHOCODE START\")\n",
    "img1=np.reshape(mod_all[0,:,:,sample_num1].astype(int),(ny,nx))\n",
    "img2=np.reshape(mod_all[0,:,:,sample_num2].astype(int),(ny,nx))\n",
    "# we assume that we are not comparing carrots and potatoes, \n",
    "# i.e., that lithocodes values overlap between img1 and img2\n",
    "# we also assume edge (in 2D) or face (in 3D) type neighborhood\n",
    "shd_2Dlitho,lsgd2Dlitho = topo_dist(img1, img2, npctiles=0, verb=1, plot=1, leg=\"litho\")\n",
    "print((datetime.now()).strftime('%d-%b-%Y (%H:%M:%S)')+\" - \"+\"COMPUTING 2D 1st order TOPOLOGY IND. LITHOCODE END\")"
   ]
  },
  {
   "cell_type": "markdown",
   "metadata": {},
   "source": [
    "### 2D CONTINUOUS VARIABLE "
   ]
  },
  {
   "cell_type": "code",
   "execution_count": 3,
   "metadata": {},
   "outputs": [
    {
     "name": "stdout",
     "output_type": "stream",
     "text": [
      "08-Jul-2021 (12:35:52) - COMPUTING 2D 1st order TOPOLOGY IND. MAG START\n",
      "discretize\n",
      "unique values in boundaries: [3. 4. 5. 6. 7. 8.]\n",
      "adjacency matrix: \n",
      "[[0. 0. 0. 0. 0. 0. 0. 0. 0. 0.]\n",
      " [0. 0. 0. 0. 0. 0. 0. 0. 0. 0.]\n",
      " [0. 0. 0. 0. 0. 0. 0. 0. 0. 0.]\n",
      " [0. 0. 0. 0. 1. 0. 0. 0. 0. 0.]\n",
      " [0. 0. 0. 1. 0. 1. 0. 0. 0. 0.]\n",
      " [0. 0. 0. 0. 1. 0. 1. 0. 0. 0.]\n",
      " [0. 0. 0. 0. 0. 1. 0. 1. 0. 0.]\n",
      " [0. 0. 0. 0. 0. 0. 1. 0. 1. 0.]\n",
      " [0. 0. 0. 0. 0. 0. 0. 1. 0. 0.]\n",
      " [0. 0. 0. 0. 0. 0. 0. 0. 0. 0.]]\n",
      "unique values in boundaries: [0. 1. 2. 3. 4. 5. 6. 7. 8. 9.]\n",
      "adjacency matrix: \n",
      "[[0. 1. 0. 0. 0. 0. 0. 0. 0. 0.]\n",
      " [1. 0. 1. 1. 0. 0. 0. 0. 0. 0.]\n",
      " [0. 1. 0. 1. 1. 1. 0. 1. 0. 0.]\n",
      " [0. 1. 1. 0. 1. 1. 1. 1. 1. 0.]\n",
      " [0. 0. 1. 1. 0. 1. 1. 1. 1. 0.]\n",
      " [0. 0. 1. 1. 1. 0. 1. 1. 1. 1.]\n",
      " [0. 0. 0. 1. 1. 1. 0. 1. 1. 1.]\n",
      " [0. 0. 1. 1. 1. 1. 1. 0. 1. 1.]\n",
      " [0. 0. 0. 1. 1. 1. 1. 1. 0. 1.]\n",
      " [0. 0. 0. 0. 0. 1. 1. 1. 1. 0.]]\n",
      "mag structural Hamming distance: 0.4666666666666667\n",
      "mag Laplacian spectral graph distance: 0.17910040675890326\n"
     ]
    },
    {
     "data": {
      "image/png": "[encoded data removed]",
      "text/plain": [
       "<Figure size 432x288 with 9 Axes>"
      ]
     },
     "metadata": {
      "needs_background": "light"
     },
     "output_type": "display_data"
    },
    {
     "name": "stdout",
     "output_type": "stream",
     "text": [
      "08-Jul-2021 (12:35:52) - COMPUTING 2D 1st order TOPOLOGY IND. MAG END\n"
     ]
    }
   ],
   "source": [
    "#%% 2D CONTINUOUS VARIABLE \n",
    "print((datetime.now()).strftime('%d-%b-%Y (%H:%M:%S)')+\" - \"+\"COMPUTING 2D 1st order TOPOLOGY IND. MAG START\")\n",
    "img1=mag_all[:,:,sample_num1]\n",
    "img2=mag_all[:,:,sample_num2]\n",
    "shd_2Dmag,lsgd2Dmag = topo_dist(img1, img2, npctiles, verb=1, plot=1, leg=\"mag\")\n",
    "print((datetime.now()).strftime('%d-%b-%Y (%H:%M:%S)')+\" - \"+\"COMPUTING 2D 1st order TOPOLOGY IND. MAG END\")"
   ]
  },
  {
   "cell_type": "markdown",
   "metadata": {},
   "source": [
    "### 3D CATEGORICAL VARIABLE "
   ]
  },
  {
   "cell_type": "code",
   "execution_count": 4,
   "metadata": {},
   "outputs": [
    {
     "name": "stdout",
     "output_type": "stream",
     "text": [
      "08-Jul-2021 (12:35:52) - COMPUTING 3D 1st order TOPOLOGY IND. LITHOCODE START\n",
      "unique values in boundaries: [1 2 3 4 6]\n",
      "adjacency matrix: \n",
      "[[0. 1. 0. 1. 0. 1.]\n",
      " [1. 0. 1. 0. 0. 1.]\n",
      " [0. 1. 0. 0. 0. 1.]\n",
      " [1. 0. 0. 0. 0. 1.]\n",
      " [0. 0. 0. 0. 0. 0.]\n",
      " [1. 1. 1. 1. 0. 0.]]\n",
      "unique values in boundaries: [1 2 3 4 5 6]\n",
      "adjacency matrix: \n",
      "[[0. 1. 0. 0. 0. 1.]\n",
      " [1. 0. 1. 0. 0. 1.]\n",
      " [0. 1. 0. 1. 0. 1.]\n",
      " [0. 0. 1. 0. 1. 1.]\n",
      " [0. 0. 0. 1. 0. 1.]\n",
      " [1. 1. 1. 1. 1. 0.]]\n",
      "litho structural Hamming distance: 0.26666666666666666\n",
      "litho Laplacian spectral graph distance: 0.30209704165657264\n"
     ]
    },
    {
     "data": {
      "image/png": "[encoded data removed]",
      "text/plain": [
       "<Figure size 432x288 with 8 Axes>"
      ]
     },
     "metadata": {
      "needs_background": "light"
     },
     "output_type": "display_data"
    },
    {
     "name": "stdout",
     "output_type": "stream",
     "text": [
      "08-Jul-2021 (12:35:56) - COMPUTING 3D 1st order TOPOLOGY IND. LITHOCODE END\n"
     ]
    }
   ],
   "source": [
    "#%% 3D CATEGORICAL VARIABLE \n",
    "print((datetime.now()).strftime('%d-%b-%Y (%H:%M:%S)')+\" - \"+\"COMPUTING 3D 1st order TOPOLOGY IND. LITHOCODE START\")\n",
    "img1=np.reshape(mod_all[:,:,:,sample_num1].astype(int),(nz,ny,nx))\n",
    "img2=np.reshape(mod_all[:,:,:,sample_num2].astype(int),(nz,ny,nx))\n",
    "shd_3Dlitho,lsgd3Dlitho = topo_dist(img1, img2, npctiles=0, verb=1, plot=1, leg=\"litho\")\n",
    "print((datetime.now()).strftime('%d-%b-%Y (%H:%M:%S)')+\" - \"+\"COMPUTING 3D 1st order TOPOLOGY IND. LITHOCODE END\")"
   ]
  },
  {
   "cell_type": "markdown",
   "metadata": {},
   "source": [
    "### 3D CONTINUOUS VARIABLE "
   ]
  },
  {
   "cell_type": "code",
   "execution_count": 5,
   "metadata": {},
   "outputs": [
    {
     "name": "stdout",
     "output_type": "stream",
     "text": [
      "08-Jul-2021 (12:35:56) - COMPUTING 3D 1st order TOPOLOGY IND. DENSITY START\n",
      "discretize\n",
      "unique values in boundaries: [0. 2. 7. 9.]\n",
      "adjacency matrix: \n",
      "[[0. 1. 0. 0. 1. 1.]\n",
      " [1. 0. 0. 0. 1. 1.]\n",
      " [0. 0. 0. 0. 0. 0.]\n",
      " [0. 0. 0. 0. 0. 0.]\n",
      " [1. 1. 0. 0. 0. 0.]\n",
      " [1. 1. 0. 0. 0. 0.]]\n",
      "unique values in boundaries: [0. 2. 3. 5. 7.]\n",
      "adjacency matrix: \n",
      "[[0. 0. 0. 1. 1. 0.]\n",
      " [0. 0. 0. 1. 1. 0.]\n",
      " [0. 0. 0. 1. 0. 0.]\n",
      " [1. 1. 1. 0. 1. 0.]\n",
      " [1. 1. 0. 1. 0. 0.]\n",
      " [0. 0. 0. 0. 0. 0.]]\n",
      "$\\rho$ $kg/m^3$ structural Hamming distance: 0.4666666666666667\n",
      "$\\rho$ $kg/m^3$ Laplacian spectral graph distance: 0.21478914728830323\n"
     ]
    },
    {
     "data": {
      "image/png": "[encoded data removed]",
      "text/plain": [
       "<Figure size 432x288 with 9 Axes>"
      ]
     },
     "metadata": {
      "needs_background": "light"
     },
     "output_type": "display_data"
    },
    {
     "name": "stdout",
     "output_type": "stream",
     "text": [
      "08-Jul-2021 (12:36:04) - COMPUTING 3D 1st order TOPOLOGY IND. DENSITY END\n"
     ]
    }
   ],
   "source": [
    "#%% 3D CONTINUOUS VARIABLE \n",
    "print((datetime.now()).strftime('%d-%b-%Y (%H:%M:%S)')+\" - \"+\"COMPUTING 3D 1st order TOPOLOGY IND. DENSITY START\")\n",
    "img1=rho_all[:,:,:,sample_num1]\n",
    "img2=rho_all[:,:,:,sample_num2]\n",
    "shd_3Drho,lsgd3Drho = topo_dist(img1, img2, npctiles, verb=1, plot=1, leg=\"$\\\\rho$ $kg/m^3$\")\n",
    "print((datetime.now()).strftime('%d-%b-%Y (%H:%M:%S)')+\" - \"+\"COMPUTING 3D 1st order TOPOLOGY IND. DENSITY END\")"
   ]
  },
  {
   "cell_type": "markdown",
   "metadata": {},
   "source": [
    "## Compute distances for all pairs of voxets<span style='color:red'>\\*</span>\n",
    "<span style='color:red'>**\\*WARNING: IT COULD TAKE AROUND 15 MINUTES. PRECOMPUTED RESULTS ALREADY AVAILABLE IN THE PICKLE FOLDER** </span>"
   ]
  },
  {
   "cell_type": "code",
   "execution_count": 6,
   "metadata": {},
   "outputs": [
    {
     "name": "stdout",
     "output_type": "stream",
     "text": [
      "08-Jul-2021 (12:36:04) - COMPUTING TOPOLOGY BASED DIST ALL START\n",
      "08-Jul-2021 (12:36:04) - k = 1 - i = 1 j =  0\n",
      "08-Jul-2021 (12:36:21) - k = 2 - i = 2 j =  0\n",
      "08-Jul-2021 (12:36:41) - k = 3 - i = 2 j =  1\n",
      "08-Jul-2021 (12:36:59) - k = 4 - i = 3 j =  0\n",
      "08-Jul-2021 (12:37:20) - k = 5 - i = 3 j =  1\n",
      "08-Jul-2021 (12:37:42) - k = 6 - i = 3 j =  2\n",
      "08-Jul-2021 (12:38:02) - k = 7 - i = 4 j =  0\n",
      "08-Jul-2021 (12:38:23) - k = 8 - i = 4 j =  1\n",
      "08-Jul-2021 (12:38:41) - k = 9 - i = 4 j =  2\n",
      "08-Jul-2021 (12:39:01) - k = 10 - i = 4 j =  3\n",
      "08-Jul-2021 (12:39:22) - k = 11 - i = 5 j =  0\n",
      "08-Jul-2021 (12:39:40) - k = 12 - i = 5 j =  1\n",
      "08-Jul-2021 (12:39:55) - k = 13 - i = 5 j =  2\n",
      "08-Jul-2021 (12:40:14) - k = 14 - i = 5 j =  3\n",
      "08-Jul-2021 (12:40:35) - k = 15 - i = 5 j =  4\n",
      "08-Jul-2021 (12:40:56) - k = 16 - i = 6 j =  0\n",
      "08-Jul-2021 (12:41:16) - k = 17 - i = 6 j =  1\n",
      "08-Jul-2021 (12:41:33) - k = 18 - i = 6 j =  2\n",
      "08-Jul-2021 (12:41:53) - k = 19 - i = 6 j =  3\n",
      "08-Jul-2021 (12:42:15) - k = 20 - i = 6 j =  4\n",
      "08-Jul-2021 (12:42:36) - k = 21 - i = 6 j =  5\n",
      "08-Jul-2021 (12:42:55) - k = 22 - i = 7 j =  0\n",
      "08-Jul-2021 (12:43:17) - k = 23 - i = 7 j =  1\n",
      "08-Jul-2021 (12:43:38) - k = 24 - i = 7 j =  2\n",
      "08-Jul-2021 (12:43:59) - k = 25 - i = 7 j =  3\n",
      "08-Jul-2021 (12:44:20) - k = 26 - i = 7 j =  4\n",
      "08-Jul-2021 (12:44:40) - k = 27 - i = 7 j =  5\n",
      "08-Jul-2021 (12:44:59) - k = 28 - i = 7 j =  6\n",
      "08-Jul-2021 (12:45:20) - k = 29 - i = 8 j =  0\n",
      "08-Jul-2021 (12:45:40) - k = 30 - i = 8 j =  1\n",
      "08-Jul-2021 (12:45:58) - k = 31 - i = 8 j =  2\n",
      "08-Jul-2021 (12:46:21) - k = 32 - i = 8 j =  3\n",
      "08-Jul-2021 (12:46:42) - k = 33 - i = 8 j =  4\n",
      "08-Jul-2021 (12:47:02) - k = 34 - i = 8 j =  5\n",
      "08-Jul-2021 (12:47:22) - k = 35 - i = 8 j =  6\n",
      "08-Jul-2021 (12:47:41) - k = 36 - i = 8 j =  7\n",
      "08-Jul-2021 (12:48:03) - k = 37 - i = 9 j =  0\n",
      "08-Jul-2021 (12:48:27) - k = 38 - i = 9 j =  1\n",
      "08-Jul-2021 (12:48:47) - k = 39 - i = 9 j =  2\n",
      "08-Jul-2021 (12:49:10) - k = 40 - i = 9 j =  3\n",
      "08-Jul-2021 (12:49:35) - k = 41 - i = 9 j =  4\n",
      "08-Jul-2021 (12:50:00) - k = 42 - i = 9 j =  5\n",
      "08-Jul-2021 (12:50:23) - k = 43 - i = 9 j =  6\n",
      "08-Jul-2021 (12:50:44) - k = 44 - i = 9 j =  7\n",
      "08-Jul-2021 (12:51:08) - k = 45 - i = 9 j =  8\n",
      "08-Jul-2021 (12:51:31) - COMPUTING TOPOLOGY BASED DIST ALL END\n"
     ]
    }
   ],
   "source": [
    "print((datetime.now()).strftime('%d-%b-%Y (%H:%M:%S)')+\" - \"+\"COMPUTING TOPOLOGY BASED DIST ALL START\")\n",
    "\n",
    "dist_tpl_shd_mag = np.zeros((nsamples,nsamples))\n",
    "dist_tpl_shd_grv = np.zeros((nsamples,nsamples))\n",
    "dist_tpl_shd_mod = np.zeros((nsamples,nsamples))\n",
    "dist_tpl_shd_rho = np.zeros((nsamples,nsamples))\n",
    "dist_tpl_shd_sus = np.zeros((nsamples,nsamples))\n",
    "dist_tpl_lsgd_mag = np.zeros((nsamples,nsamples))\n",
    "dist_tpl_lsgd_grv = np.zeros((nsamples,nsamples))\n",
    "dist_tpl_lsgd_mod = np.zeros((nsamples,nsamples))\n",
    "dist_tpl_lsgd_rho = np.zeros((nsamples,nsamples))\n",
    "dist_tpl_lsgd_sus = np.zeros((nsamples,nsamples))\n",
    "\n",
    "k=0\n",
    "for i in range(nsamples):\n",
    "    for j in range(i):\n",
    "        k+=1\n",
    "        print((datetime.now()).strftime('%d-%b-%Y (%H:%M:%S)')+\" - \"+'k = '+str(k)+' - i = '+str(i)+' j = ',str(j))\n",
    "        dist_tpl_shd_mag[i,j],dist_tpl_lsgd_mag[i,j] = topo_dist(mag_all[:,:,i],mag_all[:,:,j], npctiles)\n",
    "        dist_tpl_shd_grv[i,j],dist_tpl_lsgd_grv[i,j] = topo_dist(grv_all[:,:,i],grv_all[:,:,j], npctiles)\n",
    "        dist_tpl_shd_mod[i,j],dist_tpl_lsgd_mod[i,j] = topo_dist(mod_all[:,:,:,i],mod_all[:,:,:,j])\n",
    "        dist_tpl_shd_rho[i,j],dist_tpl_lsgd_rho[i,j] = topo_dist(rho_all[:,:,:,i],rho_all[:,:,:,j], npctiles)\n",
    "        dist_tpl_shd_sus[i,j],dist_tpl_lsgd_sus[i,j] = topo_dist(sus_all[:,:,:,i],sus_all[:,:,:,j], npctiles)\n",
    "        dist_tpl_shd_mag[j,i] = dist_tpl_shd_mag[i,j]\n",
    "        dist_tpl_shd_grv[j,i] = dist_tpl_shd_grv[i,j]\n",
    "        dist_tpl_shd_mod[j,i] = dist_tpl_shd_mod[i,j]\n",
    "        dist_tpl_shd_rho[j,i] = dist_tpl_shd_rho[i,j]\n",
    "        dist_tpl_shd_sus[j,i] = dist_tpl_shd_sus[i,j]\n",
    "        dist_tpl_lsgd_mag[j,i] = dist_tpl_lsgd_mag[i,j]\n",
    "        dist_tpl_lsgd_grv[j,i] = dist_tpl_lsgd_grv[i,j]\n",
    "        dist_tpl_lsgd_mod[j,i] = dist_tpl_lsgd_mod[i,j]\n",
    "        dist_tpl_lsgd_rho[j,i] = dist_tpl_lsgd_rho[i,j]\n",
    "        dist_tpl_lsgd_sus[j,i] = dist_tpl_lsgd_sus[i,j]\n",
    "\n",
    "print((datetime.now()).strftime('%d-%b-%Y (%H:%M:%S)')+\" - \"+\"COMPUTING TOPOLOGY BASED DIST ALL END\")"
   ]
  },
  {
   "cell_type": "markdown",
   "metadata": {},
   "source": [
    "## Save indicators<span style='color:red'>\\*</span>\n",
    "<span style='color:red'>**\\*if all pairs of distances have been computed** </span>"
   ]
  },
  {
   "cell_type": "code",
   "execution_count": 7,
   "metadata": {},
   "outputs": [],
   "source": [
    "with open(picklefilenametopology, 'wb') as f:\n",
    "    pickle.dump([dist_tpl_shd_mag,dist_tpl_shd_grv,dist_tpl_shd_mod,dist_tpl_shd_rho,dist_tpl_shd_sus,\n",
    "                  dist_tpl_lsgd_mag,dist_tpl_lsgd_grv,dist_tpl_lsgd_mod,dist_tpl_lsgd_rho,\n",
    "                  dist_tpl_lsgd_sus], f)\n"
   ]
  }
 ],
 "metadata": {
  "kernelspec": {
   "display_name": "Python 3",
   "language": "python",
   "name": "python3"
  },
  "language_info": {
   "codemirror_mode": {
    "name": "ipython",
    "version": 3
   },
   "file_extension": ".py",
   "mimetype": "text/x-python",
   "name": "python",
   "nbconvert_exporter": "python",
   "pygments_lexer": "ipython3",
   "version": "3.7.6"
  },
  "latex_envs": {
   "LaTeX_envs_menu_present": true,
   "autoclose": false,
   "autocomplete": true,
   "bibliofile": "biblio.bib",
   "cite_by": "apalike",
   "current_citInitial": 1,
   "eqLabelWithNumbers": true,
   "eqNumInitial": 1,
   "hotkeys": {
    "equation": "Ctrl-E",
    "itemize": "Ctrl-I"
   },
   "labels_anchors": false,
   "latex_user_defs": false,
   "report_style_numbering": false,
   "user_envs_cfg": false
  }
 },
 "nbformat": 4,
 "nbformat_minor": 4
}
